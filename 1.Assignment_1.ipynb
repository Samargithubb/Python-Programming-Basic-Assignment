{
 "cells": [
  {
   "cell_type": "code",
   "execution_count": 1,
   "id": "07954dc4",
   "metadata": {},
   "outputs": [
    {
     "name": "stdout",
     "output_type": "stream",
     "text": [
      "Hello Python\n"
     ]
    }
   ],
   "source": [
    "1.Write a Python program to print 'Hello Python' ?\n",
    "Ans.\n",
    "print(\"Hello Python\")"
   ]
  },
  {
   "cell_type": "code",
   "execution_count": 4,
   "id": "8c8a1ae1",
   "metadata": {},
   "outputs": [
    {
     "name": "stdout",
     "output_type": "stream",
     "text": [
      "Select a Arithmetic Operator:        \n",
      "1.Addition(+)       \n",
      "2.Subtraction(-)       \n",
      "3.Multiplication(*)       \n",
      "4.Division(/)       \n",
      "5.Stop(0)\n",
      "\n",
      "Enter a arithmetic operation-> \n",
      "Please enter a valid operator\n",
      "Enter a arithmetic operation-> +\n",
      "\n",
      " Enter 1st Numer:5\n",
      "Enter 2nd Number:6\n",
      "5+6=11\n",
      "\n",
      "Enter a arithmetic operation-> 0\n",
      "Program Stopped successfully\n"
     ]
    }
   ],
   "source": [
    "2.Write a Python program to do arithmetic operations addition and division ?\n",
    "Ans. \n",
    "\n",
    "import operator\n",
    "ops={ \"+\": operator.add, \"-\": operator.sub,\"*\": operator.mul, \"/\": operator.truediv}\n",
    "print('Select a Arithmetic Operator: \\\n",
    "       \\n1.Addition(+)\\\n",
    "       \\n2.Subtraction(-)\\\n",
    "       \\n3.Multiplication(*)\\\n",
    "       \\n4.Division(/)\\\n",
    "       \\n5.Stop(0)\\n')\n",
    "\n",
    "while True:\n",
    "    operator = input('Enter a arithmetic operation-> ')\n",
    "    if operator == '0':\n",
    "        print('Program Stopped successfully')\n",
    "        break\n",
    "    elif operator not in ['+','-','*','/']:\n",
    "        print('Please enter a valid operator')\n",
    "    else:\n",
    "        num_1=int(input('\\n Enter 1st Numer:'))\n",
    "        num_2=int(input('Enter 2nd Number:'))\n",
    "        print('{}{}{}={}\\n'.format(num_1,operator, num_2,ops[operator](num_1,num_2)))"
   ]
  },
  {
   "cell_type": "code",
   "execution_count": 6,
   "id": "8f6e6eb9",
   "metadata": {},
   "outputs": [
    {
     "name": "stdout",
     "output_type": "stream",
     "text": [
      "Enter height of triangle:4\n",
      "Enter base of triangle:5\n",
      "\n",
      " Area of triangle : 10.0\n"
     ]
    }
   ],
   "source": [
    "3.Write a Python program to find the area of a triangle ?\n",
    "Ans. \n",
    "\n",
    "Height= int(input('Enter height of triangle:'))\n",
    "Base= int(input('Enter base of triangle:'))\n",
    "\n",
    "def area_of_Triangle(Height,base):\n",
    "    print('\\n Area of triangle :', 0.5*Height*Base)\n",
    "    \n",
    "area_of_Triangle(Height,Base)"
   ]
  },
  {
   "cell_type": "code",
   "execution_count": 8,
   "id": "29fbfb78",
   "metadata": {},
   "outputs": [
    {
     "name": "stdout",
     "output_type": "stream",
     "text": [
      "Enter first Number: 3\n",
      "Enter Second Number: 4\n",
      "Before swapping :  3 4\n",
      "After swapping 4 3\n"
     ]
    }
   ],
   "source": [
    "4.Write a Python program to swap two variables ?\n",
    "Ans.\n",
    "\n",
    "num_1= int(input('Enter first Number: '))\n",
    "num_2= int(input('Enter Second Number: '))\n",
    "\n",
    "def swapNumbers(a,b):\n",
    "    temp=a\n",
    "    a=b\n",
    "    b=temp\n",
    "    return a,b\n",
    "\n",
    "\n",
    "print('Before swapping : ', num_1,num_2)\n",
    "num_1,num_2= swapNumbers(num_1,num_2)\n",
    "print('After swapping',num_1,num_2)\n",
    "    "
   ]
  },
  {
   "cell_type": "code",
   "execution_count": 14,
   "id": "9054ce30",
   "metadata": {},
   "outputs": [
    {
     "name": "stdout",
     "output_type": "stream",
     "text": [
      "Random number 2960\n",
      "Random number 6\n"
     ]
    }
   ],
   "source": [
    "5.Write a Python program to generate a random number ?\n",
    "Ans.\n",
    "\n",
    "from random import randint\n",
    "def generateRandomNumber(start=0,end=10000):\n",
    "    print('Random number',randint(start,end))\n",
    "    \n",
    "# Generating random numbers without arguments    \n",
    "generateRandomNumber()\n",
    "\n",
    "# Generating random numbers with arguments    \n",
    "generateRandomNumber(0,10)"
   ]
  }
 ],
 "metadata": {
  "kernelspec": {
   "display_name": "Python 3 (ipykernel)",
   "language": "python",
   "name": "python3"
  },
  "language_info": {
   "codemirror_mode": {
    "name": "ipython",
    "version": 3
   },
   "file_extension": ".py",
   "mimetype": "text/x-python",
   "name": "python",
   "nbconvert_exporter": "python",
   "pygments_lexer": "ipython3",
   "version": "3.9.7"
  }
 },
 "nbformat": 4,
 "nbformat_minor": 5
}
