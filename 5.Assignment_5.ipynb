{
 "cells": [
  {
   "cell_type": "markdown",
   "id": "7d6f725e",
   "metadata": {},
   "source": [
    "1. Write a Python Program to find LCM ?"
   ]
  },
  {
   "cell_type": "code",
   "execution_count": 6,
   "id": "30fc3c7f",
   "metadata": {},
   "outputs": [
    {
     "name": "stdout",
     "output_type": "stream",
     "text": [
      "The LCM of 33,9 is 99\n",
      "The LCM of 5,22 is 110\n",
      "The LCM of 4,4 is 4\n"
     ]
    }
   ],
   "source": [
    "def findTheLcm(x_term,y_term):\n",
    "    if x_term > y_term:\n",
    "        greater = x_term\n",
    "    else:\n",
    "        greater = y_term\n",
    "    while True:\n",
    "        if ((greater%x_term ==0) and (greater%y_term ==0)):\n",
    "            lcm = greater\n",
    "            break\n",
    "        else:\n",
    "            greater +=1\n",
    "    print(f'The LCM of {x_term},{y_term} is {lcm}')\n",
    "\n",
    "findTheLcm(33,9)\n",
    "findTheLcm(5,22)\n",
    "findTheLcm(4,4)"
   ]
  },
  {
   "cell_type": "markdown",
   "id": "e2a3e059",
   "metadata": {},
   "source": [
    "2. Write a Python Program to find HCF ?"
   ]
  },
  {
   "cell_type": "code",
   "execution_count": 7,
   "id": "d111a662",
   "metadata": {},
   "outputs": [
    {
     "name": "stdout",
     "output_type": "stream",
     "text": [
      " The HCF of 6,12 is 6\n",
      " The HCF of 2,3 is 1\n",
      " The HCF of 10,23 is 1\n"
     ]
    }
   ],
   "source": [
    "def findTheHcf(x_term,y_term):\n",
    "    if x_term>y_term:\n",
    "        smaller = y_term\n",
    "    else:\n",
    "        smaller = x_term\n",
    "    for ele in range(1,smaller+1):\n",
    "        if((x_term%ele ==0) and (y_term%ele == 0)):\n",
    "            hcf = ele\n",
    "    print(f' The HCF of {x_term},{y_term} is {hcf}')\n",
    "findTheHcf(6,12)\n",
    "findTheHcf(2,3)\n",
    "findTheHcf(10,23)"
   ]
  },
  {
   "cell_type": "markdown",
   "id": "628a4a21",
   "metadata": {},
   "source": [
    "3. Write a Python Program to Convert Decimal to Binary, Octal and Hexadecimal ?"
   ]
  },
  {
   "cell_type": "code",
   "execution_count": 8,
   "id": "2b09809a",
   "metadata": {},
   "outputs": [
    {
     "name": "stdout",
     "output_type": "stream",
     "text": [
      "Enter a Number455\n",
      "Binary Number- 0b111000111\n",
      "Octal Number- 0o707\n",
      "Hexadecimal Number-0x1c7\n"
     ]
    }
   ],
   "source": [
    "def DecimalToOther():\n",
    "    num =int(input('Enter a Number'))\n",
    "    print(f'Binary Number- {bin(num)}')\n",
    "    print(f'Octal Number- {oct(num)}')\n",
    "    print(f'Hexadecimal Number-{hex(num)}')\n",
    "\n",
    "DecimalToOther()"
   ]
  },
  {
   "cell_type": "markdown",
   "id": "63f752ff",
   "metadata": {},
   "source": [
    "4. Write a Python Program to Find the ASCII value of a Character ?"
   ]
  },
  {
   "cell_type": "code",
   "execution_count": 11,
   "id": "791d59d7",
   "metadata": {},
   "outputs": [
    {
     "name": "stdout",
     "output_type": "stream",
     "text": [
      "Enter a Character: @\n",
      "Ascii Character of @ is 64\n"
     ]
    }
   ],
   "source": [
    "def charToAscii():\n",
    "    char = input('Enter a Character: ')\n",
    "    if len(char) > 1:\n",
    "        print('Please Enter a Single Character')\n",
    "    else:\n",
    "        print(f'Ascii Character of {char} is {ord(char)}')\n",
    "charToAscii()"
   ]
  },
  {
   "cell_type": "markdown",
   "id": "2af5ef1f",
   "metadata": {},
   "source": [
    "5. Write a Python Program to Make a Simple Calculator with 4 Basic Mathematical\n",
    "operations ?"
   ]
  },
  {
   "cell_type": "code",
   "execution_count": 12,
   "id": "7a11ebd8",
   "metadata": {},
   "outputs": [
    {
     "name": "stdout",
     "output_type": "stream",
     "text": [
      "Select a Arithmetic Operation:        \n",
      "1.Addition(+)       \n",
      "2.Division(-)       \n",
      "3.Multiplication(*)       \n",
      "4.Division(/)       \n",
      "5.Stop(0)\n",
      "\n",
      "Enter a arithmetic operation=+\n",
      "\n",
      " Enter 1st Number3\n",
      "\n",
      " Enter 2nd Number14\n",
      "3+14=17\n",
      "\n",
      "Enter a arithmetic operation=6\n",
      "Please enter a valid operator\n",
      "Enter a arithmetic operation=*\n",
      "\n",
      " Enter 1st Number6\n",
      "\n",
      " Enter 2nd Number7\n",
      "6*7=42\n",
      "\n",
      "Enter a arithmetic operation=0\n",
      "Progrma Stopped Successfully\n"
     ]
    }
   ],
   "source": [
    "import operator\n",
    "ops={ \"+\": operator.add, \"-\" : operator.sub, \"*\": operator.mul, \"/\": operator.truediv}\n",
    "\n",
    "print('Select a Arithmetic Operation: \\\n",
    "       \\n1.Addition(+)\\\n",
    "       \\n2.Division(-)\\\n",
    "       \\n3.Multiplication(*)\\\n",
    "       \\n4.Division(/)\\\n",
    "       \\n5.Stop(0)\\n')\n",
    "\n",
    "while True:\n",
    "    operator = input('Enter a arithmetic operation=')\n",
    "    if operator ==\"0\":\n",
    "        print(\"Progrma Stopped Successfully\")\n",
    "        break\n",
    "    elif operator not in ['+','-','*','/']:\n",
    "        print('Please enter a valid operator')\n",
    "    else:\n",
    "        num_1= int(input('\\n Enter 1st Number'))\n",
    "        num_2=int(input('\\n Enter 2nd Number'))\n",
    "        print(f'{num_1}{operator}{num_2}={ops[operator](num_1,num_2)}\\n')"
   ]
  }
 ],
 "metadata": {
  "kernelspec": {
   "display_name": "Python 3 (ipykernel)",
   "language": "python",
   "name": "python3"
  },
  "language_info": {
   "codemirror_mode": {
    "name": "ipython",
    "version": 3
   },
   "file_extension": ".py",
   "mimetype": "text/x-python",
   "name": "python",
   "nbconvert_exporter": "python",
   "pygments_lexer": "ipython3",
   "version": "3.9.7"
  }
 },
 "nbformat": 4,
 "nbformat_minor": 5
}
